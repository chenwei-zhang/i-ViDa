{
 "cells": [
  {
   "cell_type": "code",
   "execution_count": 1,
   "metadata": {},
   "outputs": [],
   "source": [
    "import numpy as np\n",
    "import matplotlib.pyplot as plt"
   ]
  },
  {
   "cell_type": "code",
   "execution_count": 3,
   "metadata": {},
   "outputs": [
    {
     "name": "stdout",
     "output_type": "stream",
     "text": [
      "(977538,) (977538,) (67387,)\n",
      "(977538, 50, 50) (977538, 4000) (977538,) (977538,) (977538,)\n",
      "(67387, 50, 50) (67387, 4000) (67387,) (67387,)\n",
      "(977538, 5) (67387, 4)\n",
      "(977538,) (67387,) (100,) (67387, 25) (67387,)\n",
      "(67387, 3) (977538, 3)\n",
      "(67387, 2) (977538, 2)\n",
      "(67387, 2) (977538, 2) (67387, 3) (977538, 3)\n",
      "(67387, 2) (977538, 2) (67387, 3) (977538, 3)\n"
     ]
    }
   ],
   "source": [
    "\"\"\"load saved trajectories data for npz file\n",
    "\"\"\"\n",
    "SEQ = \"PT3\"\n",
    "# SEQ = \"PT4_hairpin\"\n",
    "\n",
    "\n",
    "# multiple trajectories\n",
    "fpath = \"/Users/chenwei/Desktop/Github/ViDa/code/data/helix_assoc\"\n",
    "if SEQ in [\"PT3\", \"PT4\", \"PT3_hairpin\"]:\n",
    "     fnpz_data = f\"{fpath}/helix_assoc_{SEQ}_multrj_100epoch_py.npz\"\n",
    "elif SEQ in [\"PT0\", \"PT4_hairpin\"]:\n",
    "     fnpz_data = f\"{fpath}/helix_assoc_{SEQ}_multrj_60epoch_py.npz\"\n",
    "\n",
    "data_npz = np.load(fnpz_data)\n",
    "\n",
    "# asssign data to variables\n",
    "for var in data_npz.files:\n",
    "     locals()[var] = data_npz[var]\n",
    "\n",
    "# recover full data based on coord_id, indices, and unique data\n",
    "SIMS_adj = SIMS_adj_uniq[coord_id_S]\n",
    "SIMS_scar = SIMS_scar_uniq[coord_id_S]\n",
    "SIMS_G = SIMS_G_uniq[coord_id_S]\n",
    "SIMS_pair = SIMS_pair_uniq[coord_id_S]\n",
    "\n",
    "print(SIMS_T.shape,SIMS_HT.shape,SIMS_HT_uniq.shape)\n",
    "print(SIMS_adj.shape,SIMS_scar.shape,SIMS_G.shape,SIMS_HT.shape,SIMS_pair.shape)\n",
    "print(SIMS_adj_uniq.shape,SIMS_scar_uniq.shape,SIMS_G_uniq.shape,SIMS_pair_uniq.shape) \n",
    "print(SIMS_dict.shape,SIMS_dict_uniq.shape)\n",
    "print(coord_id_S.shape,indices_S.shape,trj_id.shape,data_embed.shape,occ_density_S.shape)\n",
    "print(pca_coords.shape,pca_all_coords.shape)\n",
    "print(phate_coords.shape,phate_all_coords.shape)\n",
    "print(umap_coord_2d.shape,umap_all_coord_2d.shape,umap_coord_3d.shape,umap_all_coord_3d.shape)\n",
    "print(tsne_coord_2d.shape,tsne_all_coord_2d.shape,tsne_coord_3d.shape,tsne_all_coord_3d.shape)\n",
    "\n",
    "SIMS_dp = SIMS_dict[:,0]\n",
    "SIMS_dp_uniq = SIMS_dict_uniq[:,0]"
   ]
  },
  {
   "cell_type": "code",
   "execution_count": 4,
   "metadata": {},
   "outputs": [
    {
     "data": {
      "text/plain": [
       "((100,), (100,), (100,))"
      ]
     },
     "execution_count": 4,
     "metadata": {},
     "output_type": "execute_result"
    }
   ],
   "source": [
    "# get each trajectory\n",
    "def getpertrjinfo(trj_id,SIMS_dp,SIMS_HT,coord_id_S):\n",
    "    DP_trj = []\n",
    "    TIME_trj=[]\n",
    "    INDX_trj=[]\n",
    "    TRJ_ID = trj_id+1\n",
    "    for i in range(len(TRJ_ID)):\n",
    "        if i == 0:\n",
    "            DP_trj.append(SIMS_dp[0:TRJ_ID[i]])\n",
    "            TIME_trj.append(np.around(SIMS_HT[0:TRJ_ID[i]],decimals=12))\n",
    "            INDX_trj.append(coord_id_S[0:TRJ_ID[i]])\n",
    "        elif 0 < i < len(trj_id):\n",
    "            DP_trj.append(SIMS_dp[TRJ_ID[i-1]:TRJ_ID[i]])\n",
    "            TIME_trj.append(np.around(SIMS_HT[TRJ_ID[i-1]:TRJ_ID[i]],decimals=12))\n",
    "            INDX_trj.append(coord_id_S[TRJ_ID[i-1]:TRJ_ID[i]])\n",
    "    DP_trj = np.array(DP_trj, dtype=object)\n",
    "    TIME_trj = np.array(TIME_trj, dtype=object)\n",
    "    INDX_trj = np.array(INDX_trj, dtype=object)\n",
    "    \n",
    "    return DP_trj, TIME_trj, INDX_trj\n",
    "            \n",
    "DP_trj,TIME_trj,INDX_trj = getpertrjinfo(trj_id,SIMS_dp,SIMS_HT,coord_id_S)\n",
    "\n",
    "DP_trj.shape, TIME_trj.shape, INDX_trj.shape"
   ]
  },
  {
   "cell_type": "code",
   "execution_count": 5,
   "metadata": {},
   "outputs": [],
   "source": [
    "# get index for unique states to generate trajectories\n",
    "# get holding times for each unique state\n",
    "def gettrjindx(trj_id,SIMS_dp_uniq,TIME_trj,DP_trj):\n",
    "    INDX_all = []\n",
    "    TIME_all = []\n",
    "    for k in range(len(DP_trj)):        \n",
    "        INDX = []\n",
    "        time= []\n",
    "        for i in range(len(SIMS_dp_uniq)):\n",
    "            temp = np.argwhere(SIMS_dp_uniq[i] == DP_trj[k])\n",
    "            if temp.size == 0:\n",
    "                INDX.append(np.array([-1]))\n",
    "                time.append(np.array([-1]))\n",
    "            else:\n",
    "                INDX.append(temp.flatten())\n",
    "                time.append (TIME_trj[k][temp.flatten()])\n",
    "        INDX_all.append(INDX)\n",
    "        TIME_all.append(time)\n",
    "    \n",
    "    INDX_all = np.array(INDX_all, dtype=object)\n",
    "    TIME_all = np.array(TIME_all, dtype=object)\n",
    "    \n",
    "    return INDX_all,TIME_all\n",
    "    "
   ]
  },
  {
   "cell_type": "code",
   "execution_count": 5,
   "metadata": {},
   "outputs": [
    {
     "data": {
      "text/plain": [
       "((100, 67387), (100, 67387))"
      ]
     },
     "execution_count": 5,
     "metadata": {},
     "output_type": "execute_result"
    }
   ],
   "source": [
    "# # INDX_all, TIME_all = gettrjindx(trj_id,SIMS_dp_uniq,TIME_trj,DP_trj)\n",
    "\n",
    "# # fnpz_data = \"/Users/chenwei/Desktop/Github/VisDNA/data/trjidtime.npz\"\n",
    "# # with open(fnpz_data, 'wb') as f:\n",
    "# #     np.savez(f,\n",
    "# #              INDX_all = INDX_all,\n",
    "# #              TIME_all = TIME_all,\n",
    "# #     )\n",
    "\n",
    "# for i in range(100):\n",
    "#     item[f\"Time_{i}\"] = TIME_all[i][id].flatten().tolist()\n",
    "#     item[f\"TRJ_{i}\"] = INDX_all[i][id].flatten().tolist()\n",
    "\n",
    "# fnpz_data = \"/Users/chenwei/Desktop/Github/VisDNA/data/PT3_trjidtime.npz\"\n",
    "# data_idx = np.load(fnpz_data,allow_pickle=True)\n",
    "# data_idx.files\n",
    "# INDX_all = data_idx['INDX_all']\n",
    "# TIME_all = data_idx['TIME_all']\n",
    "# INDX_all.shape,TIME_all.shape"
   ]
  },
  {
   "cell_type": "code",
   "execution_count": 5,
   "metadata": {},
   "outputs": [],
   "source": [
    "# for k in range(len(SIMS_dp_uniq)):\n",
    "def getitem(id,\n",
    "            SIMS_dp_uniq,SIMS_G_uniq,SIMS_HT_uniq,\n",
    "            pca_coords,phate_coords,):\n",
    "    \n",
    "    item = {\n",
    "        \"ID\": id,\n",
    "        \"DP\": SIMS_dp_uniq[id],\n",
    "        \"PCA_X\": np.around(pca_coords[:,0],decimals=4)[id],\n",
    "        \"PCA_Y\": np.around(pca_coords[:,1],decimals=4)[id],\n",
    "        \"PHATE_X\": np.around(phate_coords[:,0],decimals=5)[id],\n",
    "        \"PHATE_Y\": np.around(phate_coords[:,1],decimals=5)[id],\n",
    "        \"Energy\":np.around(SIMS_G_uniq,decimals=3)[id],\n",
    "        \"Avgtime\": np.around(SIMS_HT_uniq,decimals=12)[id],\n",
    "    }\n",
    "    return item\n"
   ]
  },
  {
   "cell_type": "markdown",
   "metadata": {},
   "source": []
  },
  {
   "cell_type": "code",
   "execution_count": 6,
   "metadata": {},
   "outputs": [],
   "source": [
    "def getidxtime(i, INDX_trj, TIME_trj):\n",
    "    \n",
    "    idxtime = {\n",
    "        \"ID\": i+1,\n",
    "        \"idx\": INDX_trj[i].flatten().tolist(),\n",
    "        \"time\": TIME_trj[i].flatten().tolist(),\n",
    "    }\n",
    "    return idxtime\n"
   ]
  },
  {
   "cell_type": "code",
   "execution_count": 111,
   "metadata": {},
   "outputs": [
    {
     "data": {
      "text/plain": [
       "{'ID': 0,\n",
       " 'DP': '.........................+.........................',\n",
       " 'PCA_X': -2.7051,\n",
       " 'PCA_Y': -1.4963,\n",
       " 'PHATE_X': -0.00387,\n",
       " 'PHATE_Y': -0.00011,\n",
       " 'Energy': 0.0,\n",
       " 'Avgtime': 5.21e-10}"
      ]
     },
     "execution_count": 111,
     "metadata": {},
     "output_type": "execute_result"
    }
   ],
   "source": [
    "# item = getitem(0,SIMS_dp_uniq,SIMS_G_uniq,SIMS_HT_uniq,pca_coords,phate_coords)\n",
    "# item"
   ]
  },
  {
   "cell_type": "code",
   "execution_count": 127,
   "metadata": {},
   "outputs": [],
   "source": [
    "# idxtime = getidxtime(i, INDX_trj, TIME_trj)"
   ]
  },
  {
   "cell_type": "code",
   "execution_count": 7,
   "metadata": {},
   "outputs": [],
   "source": [
    "item_list = []\n",
    "for i in range(len(SIMS_dp_uniq)):\n",
    "    name = f\"item_{i}\"\n",
    "    item_list.append(name)\n",
    "    \n",
    "idxtime_list = []\n",
    "for i in range(len(INDX_trj)):\n",
    "    name = f\"idxtime_{i}\"\n",
    "    idxtime_list.append(name)"
   ]
  },
  {
   "cell_type": "code",
   "execution_count": 8,
   "metadata": {},
   "outputs": [],
   "source": [
    "ITEM=[]\n",
    "for i in range(len(item_list)):\n",
    "    locals()[item_list[i]] = getitem(i,SIMS_dp_uniq,SIMS_G_uniq,SIMS_HT_uniq,pca_coords,phate_coords)\n",
    "\n",
    "    ITEM.append(locals()[item_list[i]])"
   ]
  },
  {
   "cell_type": "code",
   "execution_count": 9,
   "metadata": {},
   "outputs": [],
   "source": [
    "IDX_TIME=[]\n",
    "for i in range(len(idxtime_list)):\n",
    "    locals()[idxtime_list[i]] = getidxtime(i, INDX_trj, TIME_trj)\n",
    "    \n",
    "    IDX_TIME.append(locals()[idxtime_list[i]])\n"
   ]
  },
  {
   "cell_type": "code",
   "execution_count": 10,
   "metadata": {},
   "outputs": [],
   "source": [
    "# import json\n",
    "# with open('PT3_item.json', 'w') as f:\n",
    "#     json.dump(ITEM, f)\n",
    "\n",
    "# with open('PT3_idxtime.json', 'w') as f:\n",
    "#     json.dump(IDX_TIME, f)\n"
   ]
  },
  {
   "cell_type": "code",
   "execution_count": null,
   "metadata": {},
   "outputs": [],
   "source": []
  },
  {
   "cell_type": "code",
   "execution_count": null,
   "metadata": {},
   "outputs": [],
   "source": []
  }
 ],
 "metadata": {
  "kernelspec": {
   "display_name": "Python 3.8.13 ('GSAE')",
   "language": "python",
   "name": "python3"
  },
  "language_info": {
   "codemirror_mode": {
    "name": "ipython",
    "version": 3
   },
   "file_extension": ".py",
   "mimetype": "text/x-python",
   "name": "python",
   "nbconvert_exporter": "python",
   "pygments_lexer": "ipython3",
   "version": "3.8.13"
  },
  "orig_nbformat": 4,
  "vscode": {
   "interpreter": {
    "hash": "960be4cf653645892f8c5040dafd36ede801108a57618a05d934dc04f8033a0a"
   }
  }
 },
 "nbformat": 4,
 "nbformat_minor": 2
}
